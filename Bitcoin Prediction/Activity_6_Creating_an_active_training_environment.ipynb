{
  "nbformat": 4,
  "nbformat_minor": 0,
  "metadata": {
    "kernelspec": {
      "display_name": "Python 3",
      "language": "python",
      "name": "python3"
    },
    "language_info": {
      "codemirror_mode": {
        "name": "ipython",
        "version": 3
      },
      "file_extension": ".py",
      "mimetype": "text/x-python",
      "name": "python",
      "nbconvert_exporter": "python",
      "pygments_lexer": "ipython3",
      "version": "3.6.6"
    },
    "colab": {
      "name": "Activity_6_Creating_an_active_training_environment.ipynb",
      "provenance": [],
      "include_colab_link": true
    }
  },
  "cells": [
    {
      "cell_type": "markdown",
      "metadata": {
        "id": "view-in-github",
        "colab_type": "text"
      },
      "source": [
        "<a href=\"https://colab.research.google.com/github/pavankumarnani575/Technolabs-Internship/blob/main/Bitcoin%20Prediction/Activity_6_Creating_an_active_training_environment.ipynb\" target=\"_parent\"><img src=\"https://colab.research.google.com/assets/colab-badge.svg\" alt=\"Open In Colab\"/></a>"
      ]
    },
    {
      "cell_type": "code",
      "metadata": {
        "id": "P0HmWGt8DjyN",
        "outputId": "539416f4-283d-4e10-c193-65631953d8dc",
        "colab": {
          "base_uri": "https://localhost:8080/",
          "height": 34
        }
      },
      "source": [
        "!pwd"
      ],
      "execution_count": null,
      "outputs": [
        {
          "output_type": "stream",
          "text": [
            "/content\n"
          ],
          "name": "stdout"
        }
      ]
    },
    {
      "cell_type": "markdown",
      "metadata": {
        "id": "RJS2LsX-15_l"
      },
      "source": [
        "# Activity 6: Creating an active training environment\n",
        "In this activity we learn to evaluate our LSTM model and to actively train it with new data."
      ]
    },
    {
      "cell_type": "markdown",
      "metadata": {
        "id": "iZxrFXUj15_m"
      },
      "source": [
        "## Load Data"
      ]
    },
    {
      "cell_type": "code",
      "metadata": {
        "id": "uWdTP-Kh15_o",
        "outputId": "797e4c4c-cf47-4650-d52f-958be4853891",
        "colab": {
          "base_uri": "https://localhost:8080/",
          "height": 68
        }
      },
      "source": [
        "%autosave 5\n",
        "\n",
        "#  Import necessary libraries\n",
        "import numpy as np\n",
        "import pandas as pd\n",
        "import seaborn as sb\n",
        "import matplotlib.pyplot as plt\n",
        "%matplotlib inline\n",
        "plt.style.use('seaborn-white')\n",
        "\n",
        "from keras.models import load_model\n",
        "from keras.callbacks import TensorBoard\n",
        "from datetime import datetime, timedelta\n",
        "!cp '/content/drive/My Drive/Colab Notebooks/Technolabs/Bitcoin Prediction/scripts/utilities_activity6.py'\n",
        "\n",
        "from utilities_activity6 import *\n",
        "np.random.seed(0)\n"
      ],
      "execution_count": 83,
      "outputs": [
        {
          "output_type": "display_data",
          "data": {
            "application/javascript": [
              "IPython.notebook.set_autosave_interval(5000)"
            ]
          },
          "metadata": {
            "tags": []
          }
        },
        {
          "output_type": "stream",
          "text": [
            "Autosaving every 5 seconds\n",
            "cp: missing destination file operand after '/content/drive/My Drive/Colab Notebooks/Technolabs/Bitcoin Prediction/scripts/utilities_activity6.py'\n",
            "Try 'cp --help' for more information.\n"
          ],
          "name": "stdout"
        }
      ]
    },
    {
      "cell_type": "code",
      "metadata": {
        "id": "RiWNWJfh15_u"
      },
      "source": [
        "#  Load datasets\n",
        "train = pd.read_csv('/content/drive/My Drive/Colab Notebooks/Technolabs/Bitcoin Prediction/train_dataset.csv')\n",
        "test = pd.read_csv('/content/drive/My Drive/Colab Notebooks/Technolabs/Bitcoin Prediction/test_dataset.csv')"
      ],
      "execution_count": 84,
      "outputs": []
    },
    {
      "cell_type": "code",
      "metadata": {
        "id": "MeiFxRbo15_2"
      },
      "source": [
        "#  Group data into groups containing seven observations\n",
        "train_data = create_groups(\n",
        "    train['close_point_relative_normalization'][2:].values)\n",
        "\n",
        "test_data = create_groups(\n",
        "    test['close_point_relative_normalization'][:-3].values)"
      ],
      "execution_count": 86,
      "outputs": []
    },
    {
      "cell_type": "code",
      "metadata": {
        "id": "aeQoH6QI15_7"
      },
      "source": [
        "#  Reshape the data in the format expected by the LSTM layer\n",
        "X_train, Y_train = split_lstm_input(train_data)"
      ],
      "execution_count": 87,
      "outputs": []
    },
    {
      "cell_type": "markdown",
      "metadata": {
        "id": "DV2e4ryk16AA"
      },
      "source": [
        "## Re-train Model with TensorBoard"
      ]
    },
    {
      "cell_type": "code",
      "metadata": {
        "eid": "59584a",
        "id": "ydFn1Vqv16AB"
      },
      "source": [
        "def train_model(model, X, Y, epochs, version, run_number):\n",
        "    \"\"\"Training a model with TensorBoard callback.\n",
        "\n",
        "    This function names each run of the model\n",
        "    using the TensorBoard naming conventions.\n",
        "\n",
        "    Parameters\n",
        "    ----------\n",
        "    model: Keras model instance\n",
        "        Compiled Keras model.\n",
        "\n",
        "    X, Y: np.array\n",
        "        Series of observations to be used in\n",
        "        the training process.\n",
        "\n",
        "    epochs: int\n",
        "        The number of epochs to train the\n",
        "        model for.\n",
        "\n",
        "    version: int\n",
        "        Version of the model to run.\n",
        "\n",
        "    run_number: int\n",
        "        The number of the run. Used in case\n",
        "        the same model version is run again.\n",
        "    \"\"\"\n",
        "    model_name = f'bitcoin_lstm_v{version}_run_{run_number}'\n",
        "    tensorboard = TensorBoard(log_dir=f'./logs/{model_name}')\n",
        "\n",
        "    #  TASK:\n",
        "    #  Modify the `fit` method to include a TensorBoard callback.\n",
        "    #\n",
        "    model_history = model.fit(\n",
        "        x=X, y=Y,\n",
        "        batch_size=1, epochs=epochs,\n",
        "        shuffle=False)\n",
        "\n",
        "    return model_history"
      ],
      "execution_count": 89,
      "outputs": []
    },
    {
      "cell_type": "code",
      "metadata": {
        "id": "0ZXWRqXL16AF"
      },
      "source": [
        "#  Load previously trained network\n",
        "model = load_model('/content/drive/My Drive/Colab Notebooks/Technolabs/Bitcoin Prediction/bitcoin_lstm_v0.h5')"
      ],
      "execution_count": 90,
      "outputs": []
    },
    {
      "cell_type": "code",
      "metadata": {
        "id": "OftofzS316AK",
        "outputId": "a443da17-c4e1-4822-f0d2-75b6ad8a0043",
        "colab": {
          "base_uri": "https://localhost:8080/",
          "height": 1000
        }
      },
      "source": [
        "#  Retrain network\n",
        "model_history = train_model(model=model,\n",
        "                            X=X_train, Y=Y_train,\n",
        "                            epochs=100,\n",
        "                            version=0, run_number=1)"
      ],
      "execution_count": 91,
      "outputs": [
        {
          "output_type": "stream",
          "text": [
            "Epoch 1/100\n",
            "1/1 [==============================] - 0s 1ms/step - loss: 0.0027\n",
            "Epoch 2/100\n",
            "1/1 [==============================] - 0s 1ms/step - loss: 0.0023\n",
            "Epoch 3/100\n",
            "1/1 [==============================] - 0s 1ms/step - loss: 0.0020\n",
            "Epoch 4/100\n",
            "1/1 [==============================] - 0s 1ms/step - loss: 0.0018\n",
            "Epoch 5/100\n",
            "1/1 [==============================] - 0s 1ms/step - loss: 0.0016\n",
            "Epoch 6/100\n",
            "1/1 [==============================] - 0s 1ms/step - loss: 0.0015\n",
            "Epoch 7/100\n",
            "1/1 [==============================] - 0s 1ms/step - loss: 0.0013\n",
            "Epoch 8/100\n",
            "1/1 [==============================] - 0s 1ms/step - loss: 0.0012\n",
            "Epoch 9/100\n",
            "1/1 [==============================] - 0s 1ms/step - loss: 0.0011\n",
            "Epoch 10/100\n",
            "1/1 [==============================] - 0s 1ms/step - loss: 0.0010\n",
            "Epoch 11/100\n",
            "1/1 [==============================] - 0s 1ms/step - loss: 9.3836e-04\n",
            "Epoch 12/100\n",
            "1/1 [==============================] - 0s 2ms/step - loss: 8.5599e-04\n",
            "Epoch 13/100\n",
            "1/1 [==============================] - 0s 1ms/step - loss: 7.7978e-04\n",
            "Epoch 14/100\n",
            "1/1 [==============================] - 0s 1ms/step - loss: 7.0919e-04\n",
            "Epoch 15/100\n",
            "1/1 [==============================] - 0s 1ms/step - loss: 6.4378e-04\n",
            "Epoch 16/100\n",
            "1/1 [==============================] - 0s 1ms/step - loss: 5.8318e-04\n",
            "Epoch 17/100\n",
            "1/1 [==============================] - 0s 1ms/step - loss: 5.2708e-04\n",
            "Epoch 18/100\n",
            "1/1 [==============================] - 0s 1ms/step - loss: 4.7520e-04\n",
            "Epoch 19/100\n",
            "1/1 [==============================] - 0s 1ms/step - loss: 4.2730e-04\n",
            "Epoch 20/100\n",
            "1/1 [==============================] - 0s 1ms/step - loss: 3.8314e-04\n",
            "Epoch 21/100\n",
            "1/1 [==============================] - 0s 1ms/step - loss: 3.4252e-04\n",
            "Epoch 22/100\n",
            "1/1 [==============================] - 0s 1ms/step - loss: 3.0522e-04\n",
            "Epoch 23/100\n",
            "1/1 [==============================] - 0s 2ms/step - loss: 2.7106e-04\n",
            "Epoch 24/100\n",
            "1/1 [==============================] - 0s 1ms/step - loss: 2.3985e-04\n",
            "Epoch 25/100\n",
            "1/1 [==============================] - 0s 1ms/step - loss: 2.1140e-04\n",
            "Epoch 26/100\n",
            "1/1 [==============================] - 0s 2ms/step - loss: 1.8554e-04\n",
            "Epoch 27/100\n",
            "1/1 [==============================] - 0s 1ms/step - loss: 1.6211e-04\n",
            "Epoch 28/100\n",
            "1/1 [==============================] - 0s 2ms/step - loss: 1.4095e-04\n",
            "Epoch 29/100\n",
            "1/1 [==============================] - 0s 1ms/step - loss: 1.2189e-04\n",
            "Epoch 30/100\n",
            "1/1 [==============================] - 0s 1ms/step - loss: 1.0480e-04\n",
            "Epoch 31/100\n",
            "1/1 [==============================] - 0s 1ms/step - loss: 8.9544e-05\n",
            "Epoch 32/100\n",
            "1/1 [==============================] - 0s 1ms/step - loss: 7.5981e-05\n",
            "Epoch 33/100\n",
            "1/1 [==============================] - 0s 1ms/step - loss: 6.3991e-05\n",
            "Epoch 34/100\n",
            "1/1 [==============================] - 0s 1ms/step - loss: 5.3456e-05\n",
            "Epoch 35/100\n",
            "1/1 [==============================] - 0s 1ms/step - loss: 4.4263e-05\n",
            "Epoch 36/100\n",
            "1/1 [==============================] - 0s 1ms/step - loss: 3.6301e-05\n",
            "Epoch 37/100\n",
            "1/1 [==============================] - 0s 1ms/step - loss: 2.9463e-05\n",
            "Epoch 38/100\n",
            "1/1 [==============================] - 0s 1ms/step - loss: 2.3646e-05\n",
            "Epoch 39/100\n",
            "1/1 [==============================] - 0s 1ms/step - loss: 1.8749e-05\n",
            "Epoch 40/100\n",
            "1/1 [==============================] - 0s 1ms/step - loss: 1.4688e-05\n",
            "Epoch 41/100\n",
            "1/1 [==============================] - 0s 1ms/step - loss: 1.1531e-05\n",
            "Epoch 42/100\n",
            "1/1 [==============================] - 0s 1ms/step - loss: 1.0097e-05\n",
            "Epoch 43/100\n",
            "1/1 [==============================] - 0s 1ms/step - loss: 1.2412e-05\n",
            "Epoch 44/100\n",
            "1/1 [==============================] - 0s 1ms/step - loss: 1.7883e-05\n",
            "Epoch 45/100\n",
            "1/1 [==============================] - 0s 2ms/step - loss: 1.8285e-05\n",
            "Epoch 46/100\n",
            "1/1 [==============================] - 0s 1ms/step - loss: 1.2160e-05\n",
            "Epoch 47/100\n",
            "1/1 [==============================] - 0s 2ms/step - loss: 6.6154e-06\n",
            "Epoch 48/100\n",
            "1/1 [==============================] - 0s 1ms/step - loss: 3.8794e-06\n",
            "Epoch 49/100\n",
            "1/1 [==============================] - 0s 1ms/step - loss: 2.4477e-06\n",
            "Epoch 50/100\n",
            "1/1 [==============================] - 0s 1ms/step - loss: 1.7140e-06\n",
            "Epoch 51/100\n",
            "1/1 [==============================] - 0s 1ms/step - loss: 1.3095e-06\n",
            "Epoch 52/100\n",
            "1/1 [==============================] - 0s 1ms/step - loss: 1.1385e-06\n",
            "Epoch 53/100\n",
            "1/1 [==============================] - 0s 1ms/step - loss: 1.1514e-06\n",
            "Epoch 54/100\n",
            "1/1 [==============================] - 0s 1ms/step - loss: 1.4106e-06\n",
            "Epoch 55/100\n",
            "1/1 [==============================] - 0s 1ms/step - loss: 2.0218e-06\n",
            "Epoch 56/100\n",
            "1/1 [==============================] - 0s 1ms/step - loss: 3.2661e-06\n",
            "Epoch 57/100\n",
            "1/1 [==============================] - 0s 1ms/step - loss: 5.2686e-06\n",
            "Epoch 58/100\n",
            "1/1 [==============================] - 0s 1ms/step - loss: 7.7920e-06\n",
            "Epoch 59/100\n",
            "1/1 [==============================] - 0s 2ms/step - loss: 9.0623e-06\n",
            "Epoch 60/100\n",
            "1/1 [==============================] - 0s 1ms/step - loss: 8.5728e-06\n",
            "Epoch 61/100\n",
            "1/1 [==============================] - 0s 3ms/step - loss: 6.5701e-06\n",
            "Epoch 62/100\n",
            "1/1 [==============================] - 0s 1ms/step - loss: 4.8729e-06\n",
            "Epoch 63/100\n",
            "1/1 [==============================] - 0s 1ms/step - loss: 3.5499e-06\n",
            "Epoch 64/100\n",
            "1/1 [==============================] - 0s 2ms/step - loss: 2.8421e-06\n",
            "Epoch 65/100\n",
            "1/1 [==============================] - 0s 1ms/step - loss: 2.4448e-06\n",
            "Epoch 66/100\n",
            "1/1 [==============================] - 0s 1ms/step - loss: 2.3782e-06\n",
            "Epoch 67/100\n",
            "1/1 [==============================] - 0s 1ms/step - loss: 2.5124e-06\n",
            "Epoch 68/100\n",
            "1/1 [==============================] - 0s 1ms/step - loss: 2.9409e-06\n",
            "Epoch 69/100\n",
            "1/1 [==============================] - 0s 1ms/step - loss: 3.5978e-06\n",
            "Epoch 70/100\n",
            "1/1 [==============================] - 0s 1ms/step - loss: 4.5932e-06\n",
            "Epoch 71/100\n",
            "1/1 [==============================] - 0s 1ms/step - loss: 5.6325e-06\n",
            "Epoch 72/100\n",
            "1/1 [==============================] - 0s 1ms/step - loss: 6.6103e-06\n",
            "Epoch 73/100\n",
            "1/1 [==============================] - 0s 1ms/step - loss: 6.8661e-06\n",
            "Epoch 74/100\n",
            "1/1 [==============================] - 0s 1ms/step - loss: 6.6420e-06\n",
            "Epoch 75/100\n",
            "1/1 [==============================] - 0s 6ms/step - loss: 5.8010e-06\n",
            "Epoch 76/100\n",
            "1/1 [==============================] - 0s 1ms/step - loss: 5.0351e-06\n",
            "Epoch 77/100\n",
            "1/1 [==============================] - 0s 1ms/step - loss: 4.2733e-06\n",
            "Epoch 78/100\n",
            "1/1 [==============================] - 0s 1ms/step - loss: 3.8370e-06\n",
            "Epoch 79/100\n",
            "1/1 [==============================] - 0s 2ms/step - loss: 3.5432e-06\n",
            "Epoch 80/100\n",
            "1/1 [==============================] - 0s 1ms/step - loss: 3.5316e-06\n",
            "Epoch 81/100\n",
            "1/1 [==============================] - 0s 1ms/step - loss: 3.6441e-06\n",
            "Epoch 82/100\n",
            "1/1 [==============================] - 0s 1ms/step - loss: 3.9986e-06\n",
            "Epoch 83/100\n",
            "1/1 [==============================] - 0s 1ms/step - loss: 4.4179e-06\n",
            "Epoch 84/100\n",
            "1/1 [==============================] - 0s 1ms/step - loss: 4.9940e-06\n",
            "Epoch 85/100\n",
            "1/1 [==============================] - 0s 2ms/step - loss: 5.4246e-06\n",
            "Epoch 86/100\n",
            "1/1 [==============================] - 0s 2ms/step - loss: 5.7973e-06\n",
            "Epoch 87/100\n",
            "1/1 [==============================] - 0s 1ms/step - loss: 5.7771e-06\n",
            "Epoch 88/100\n",
            "1/1 [==============================] - 0s 2ms/step - loss: 5.6422e-06\n",
            "Epoch 89/100\n",
            "1/1 [==============================] - 0s 2ms/step - loss: 5.2157e-06\n",
            "Epoch 90/100\n",
            "1/1 [==============================] - 0s 2ms/step - loss: 4.8727e-06\n",
            "Epoch 91/100\n",
            "1/1 [==============================] - 0s 1ms/step - loss: 4.4712e-06\n",
            "Epoch 92/100\n",
            "1/1 [==============================] - 0s 1ms/step - loss: 4.2721e-06\n",
            "Epoch 93/100\n",
            "1/1 [==============================] - 0s 2ms/step - loss: 4.1087e-06\n",
            "Epoch 94/100\n",
            "1/1 [==============================] - 0s 1ms/step - loss: 4.1531e-06\n",
            "Epoch 95/100\n",
            "1/1 [==============================] - 0s 1ms/step - loss: 4.2299e-06\n",
            "Epoch 96/100\n",
            "1/1 [==============================] - 0s 1ms/step - loss: 4.4790e-06\n",
            "Epoch 97/100\n",
            "1/1 [==============================] - 0s 1ms/step - loss: 4.6936e-06\n",
            "Epoch 98/100\n",
            "1/1 [==============================] - 0s 2ms/step - loss: 5.0032e-06\n",
            "Epoch 99/100\n",
            "1/1 [==============================] - 0s 1ms/step - loss: 5.1545e-06\n",
            "Epoch 100/100\n",
            "1/1 [==============================] - 0s 1ms/step - loss: 5.3123e-06\n"
          ],
          "name": "stdout"
        }
      ]
    },
    {
      "cell_type": "markdown",
      "metadata": {
        "id": "qMeld9Qb16AP"
      },
      "source": [
        "## Evaluate LSTM Model"
      ]
    },
    {
      "cell_type": "code",
      "metadata": {
        "id": "hI8YjrJE16AQ"
      },
      "source": [
        "#  Combine training and testing datasets\n",
        "combined_set = np.concatenate((train_data, test_data), axis=1)"
      ],
      "execution_count": null,
      "outputs": []
    },
    {
      "cell_type": "code",
      "metadata": {
        "id": "iFjrWl4016AU"
      },
      "source": [
        "#  Evaluate model at each week for the test set\n",
        "evaluated_weeks = []\n",
        "for i in range(0, test_data.shape[1]):\n",
        "    input_series = combined_set[0:, i:i + 77]\n",
        "\n",
        "    X_test = input_series[0:, :-1].reshape(1, input_series.shape[1] - 1, 7)\n",
        "    Y_test = input_series[0:, -1:][0]\n",
        "\n",
        "    result = model.evaluate(x=X_test, y=Y_test, verbose=0)\n",
        "    evaluated_weeks.append(result)"
      ],
      "execution_count": null,
      "outputs": []
    },
    {
      "cell_type": "code",
      "metadata": {
        "id": "QDf_Rs9S16AZ",
        "outputId": "0a172107-9206-43a7-928b-b000f6d1a472",
        "colab": {
          "base_uri": "https://localhost:8080/",
          "height": 291
        }
      },
      "source": [
        "#  Plot MSE for all evaluated weeks\n",
        "ax = pd.Series(evaluated_weeks).plot(drawstyle=\"steps-post\",\n",
        "                                     figsize=(14, 4),\n",
        "                                     color='#2c3e50',\n",
        "                                     grid=True,\n",
        "                                     title='Mean Squared Error (MSE) for Test Data')\n",
        "\n",
        "ax.set_xticks(range(0, len(evaluated_weeks)))\n",
        "ax.set_xlabel(\"Predicted Week\")\n",
        "ax.set_ylabel(\"MSE\")\n",
        "plt.show()"
      ],
      "execution_count": null,
      "outputs": [
        {
          "output_type": "display_data",
          "data": {
            "image/png": "[encoded data removed]",
            "text/plain": [
              "<Figure size 1008x288 with 1 Axes>"
            ]
          },
          "metadata": {
            "tags": []
          }
        }
      ]
    },
    {
      "cell_type": "markdown",
      "metadata": {
        "id": "nbjtTSJR16Ad"
      },
      "source": [
        "## Interpreting Model Results"
      ]
    },
    {
      "cell_type": "markdown",
      "metadata": {
        "id": "YwsvzAeM16Ae"
      },
      "source": [
        "### Make Predictions"
      ]
    },
    {
      "cell_type": "code",
      "metadata": {
        "id": "HN1aWhGY16Ae"
      },
      "source": [
        "#  Make predictions for each of the 19 weeks\n",
        "#  in the test set\n",
        "predicted_weeks = []\n",
        "for i in range(0, test_data.shape[1]):\n",
        "    input_series = combined_set[0:, i:i + 76]\n",
        "    predicted_weeks.append(model.predict(input_series))"
      ],
      "execution_count": null,
      "outputs": []
    },
    {
      "cell_type": "code",
      "metadata": {
        "id": "NHAOMMiw16Aj"
      },
      "source": [
        "#  Flatten `predicted_weeks` to get a list\n",
        "#  of predictions for each day in the 19 weeks\n",
        "predicted_days = []\n",
        "for week in predicted_weeks:\n",
        "    predicted_days += list(week[0])"
      ],
      "execution_count": null,
      "outputs": []
    },
    {
      "cell_type": "code",
      "metadata": {
        "id": "f6t8m5F-16Ao"
      },
      "source": [
        "#  Create list of dates associated with predictions\n",
        "last_day = datetime.strptime(train['date'].max(), '%Y-%m-%d')\n",
        "list_of_days = []\n",
        "for days in range(1, len(predicted_days) + 1):\n",
        "    D = (last_day + timedelta(days=days)).strftime('%Y-%m-%d')\n",
        "    list_of_days.append(D)"
      ],
      "execution_count": null,
      "outputs": []
    },
    {
      "cell_type": "code",
      "metadata": {
        "id": "wrC_b-SN16As",
        "outputId": "fb13cf4a-6aad-4a9d-e000-9fa7943c7f5e",
        "colab": {
          "base_uri": "https://localhost:8080/",
          "height": 204
        }
      },
      "source": [
        "#  Create dataframe with predicted values\n",
        "predicted = pd.DataFrame({\n",
        "    'date': list_of_days,\n",
        "    'close_point_relative_normalization': predicted_days\n",
        "})\n",
        "predicted.head()"
      ],
      "execution_count": null,
      "outputs": [
        {
          "output_type": "execute_result",
          "data": {
            "text/html": [
              "<div>\n",
              "<style scoped>\n",
              "    .dataframe tbody tr th:only-of-type {\n",
              "        vertical-align: middle;\n",
              "    }\n",
              "\n",
              "    .dataframe tbody tr th {\n",
              "        vertical-align: top;\n",
              "    }\n",
              "\n",
              "    .dataframe thead th {\n",
              "        text-align: right;\n",
              "    }\n",
              "</style>\n",
              "<table border=\"1\" class=\"dataframe\">\n",
              "  <thead>\n",
              "    <tr style=\"text-align: right;\">\n",
              "      <th></th>\n",
              "      <th>date</th>\n",
              "      <th>close_point_relative_normalization</th>\n",
              "    </tr>\n",
              "  </thead>\n",
              "  <tbody>\n",
              "    <tr>\n",
              "      <th>0</th>\n",
              "      <td>2017-06-25</td>\n",
              "      <td>0.001233</td>\n",
              "    </tr>\n",
              "    <tr>\n",
              "      <th>1</th>\n",
              "      <td>2017-06-26</td>\n",
              "      <td>0.013675</td>\n",
              "    </tr>\n",
              "    <tr>\n",
              "      <th>2</th>\n",
              "      <td>2017-06-27</td>\n",
              "      <td>0.066537</td>\n",
              "    </tr>\n",
              "    <tr>\n",
              "      <th>3</th>\n",
              "      <td>2017-06-28</td>\n",
              "      <td>0.057593</td>\n",
              "    </tr>\n",
              "    <tr>\n",
              "      <th>4</th>\n",
              "      <td>2017-06-29</td>\n",
              "      <td>0.057594</td>\n",
              "    </tr>\n",
              "  </tbody>\n",
              "</table>\n",
              "</div>"
            ],
            "text/plain": [
              "         date  close_point_relative_normalization\n",
              "0  2017-06-25                            0.001233\n",
              "1  2017-06-26                            0.013675\n",
              "2  2017-06-27                            0.066537\n",
              "3  2017-06-28                            0.057593\n",
              "4  2017-06-29                            0.057594"
            ]
          },
          "metadata": {
            "tags": []
          },
          "execution_count": 61
        }
      ]
    },
    {
      "cell_type": "code",
      "metadata": {
        "id": "GZr9cAle16Ay"
      },
      "source": [
        "#  Convert `date` variable to datetime\n",
        "predicted['date'] = predicted['date'].apply(\n",
        "    lambda x: datetime.strptime(x, '%Y-%m-%d'))\n",
        "\n",
        "test['date'] = test['date'].apply(\n",
        "    lambda x: datetime.strptime(x, '%Y-%m-%d'))"
      ],
      "execution_count": null,
      "outputs": []
    },
    {
      "cell_type": "code",
      "metadata": {
        "id": "TfOh8iTh16A2"
      },
      "source": [
        "def plot_two_series(A, B, variable, title):\n",
        "    \"\"\"Plot two series using the same `date` index. \n",
        "    \n",
        "    Parameters\n",
        "    ----------\n",
        "    A, B: pd.DataFrame\n",
        "        Dataframe with a `date` key and a variable\n",
        "        passed in the `variable` parameter. Parameter A\n",
        "        represents the \"Observed\" series and B the \"Predicted\"\n",
        "        series. These will be labelled respectively. \n",
        "    \n",
        "    variable: str\n",
        "        Variable to use in plot.\n",
        "    \n",
        "    title: str\n",
        "        Plot title.\n",
        "    \"\"\"\n",
        "    plt.figure(figsize=(14, 4))\n",
        "    plt.xlabel('Observed and predicted')\n",
        "\n",
        "    ax1 = A.set_index('date')[variable].plot(\n",
        "        color='#d35400', grid=True, label='Observed', title=title)\n",
        "\n",
        "    ax2 = B.set_index('date')[variable].plot(\n",
        "        color='grey', grid=True, label='Predicted')\n",
        "    \n",
        "    ax1.set_xlabel(\"Predicted Week\")\n",
        "    ax1.set_ylabel(\"Predicted Values\")\n",
        "\n",
        "    plt.legend()\n",
        "    plt.show()"
      ],
      "execution_count": null,
      "outputs": []
    },
    {
      "cell_type": "code",
      "metadata": {
        "id": "zU6-8A6s16A6",
        "outputId": "cf0c2684-b009-454b-e780-1b70b39a49f4",
        "colab": {
          "base_uri": "https://localhost:8080/",
          "height": 302
        }
      },
      "source": [
        "#  Plot predicted normalized prices\n",
        "#  against actual normalized prices\n",
        "plot_two_series(A=test[:-3],\n",
        "                B=predicted,\n",
        "                variable='close_point_relative_normalization',\n",
        "                title='Normalized Predictions per Week')"
      ],
      "execution_count": null,
      "outputs": [
        {
          "output_type": "display_data",
          "data": {
            "image/png": "[encoded data removed]",
            "text/plain": [
              "<Figure size 1008x288 with 1 Axes>"
            ]
          },
          "metadata": {
            "tags": []
          }
        }
      ]
    },
    {
      "cell_type": "markdown",
      "metadata": {
        "id": "FyErgSZa16A_"
      },
      "source": [
        "### De-normalize Predictions"
      ]
    },
    {
      "cell_type": "code",
      "metadata": {
        "id": "pcSl4lnC16BA"
      },
      "source": [
        "#  Add variable `iso_week` by stripping the Year and Week from `date`\n",
        "predicted['iso_week'] = predicted['date'].apply(\n",
        "    lambda x: x.strftime('%Y-%U'))"
      ],
      "execution_count": null,
      "outputs": []
    },
    {
      "cell_type": "code",
      "metadata": {
        "id": "5L6u4C2U16BF"
      },
      "source": [
        "def denormalize(reference, series,\n",
        "                normalized_variable='close_point_relative_normalization',\n",
        "                denormalized_variable='close'):\n",
        "    \"\"\"Denormalize the values for a given series.\n",
        "\n",
        "    Parameters\n",
        "    ----------\n",
        "    reference: pd.DataFrame\n",
        "        DataFrame to use as reference. This dataframe\n",
        "        contains both a week index and the USD price\n",
        "        reference that we are interested on.\n",
        "\n",
        "    series: pd.DataFrame\n",
        "        DataFrame with the predicted series. The\n",
        "        DataFrame must have the same columns as the\n",
        "        `reference` dataset.\n",
        "\n",
        "    normalized_variable: str, default 'close_point_relative_normalization'\n",
        "        Variable to use in normalization.\n",
        "\n",
        "    denormalized_variable: str, default `close`\n",
        "        Variable to use in de-normalization.\n",
        "\n",
        "    Returns\n",
        "    -------\n",
        "    A modified DataFrame with the new variable provided\n",
        "    in `denormalized_variable` parameter.\n",
        "    \"\"\"\n",
        "    week_values = reference[reference['iso_week'] == series['iso_week'].values[0]]\n",
        "    last_value = week_values[denormalized_variable].values[0]\n",
        "    series[denormalized_variable] = last_value * (series[normalized_variable] + 1)\n",
        "\n",
        "    return series"
      ],
      "execution_count": null,
      "outputs": []
    },
    {
      "cell_type": "code",
      "metadata": {
        "id": "-kNA5cZw16BJ"
      },
      "source": [
        "#  Denormalize predictions\n",
        "predicted_close = predicted.groupby('iso_week').apply(\n",
        "    lambda x: denormalize(test[:-3], x))"
      ],
      "execution_count": null,
      "outputs": []
    },
    {
      "cell_type": "code",
      "metadata": {
        "id": "__rU_k3z16BO",
        "outputId": "96b4e4ed-d4bc-406d-fccc-2c2de2125145",
        "colab": {
          "base_uri": "https://localhost:8080/",
          "height": 302
        }
      },
      "source": [
        "#  Plot denormalized predictions and observed closing prices in test set\n",
        "plot_two_series(A=test[:-3],\n",
        "                B=predicted_close,\n",
        "                variable='close',\n",
        "                title='De-normalized Predictions per Week')"
      ],
      "execution_count": null,
      "outputs": [
        {
          "output_type": "display_data",
          "data": {
            "image/png": "[encoded data removed]",
            "text/plain": [
              "<Figure size 1008x288 with 1 Axes>"
            ]
          },
          "metadata": {
            "tags": []
          }
        }
      ]
    },
    {
      "cell_type": "markdown",
      "metadata": {
        "id": "hIOyMOYy16BT"
      },
      "source": [
        "### Calculate RMSE and MAPE"
      ]
    },
    {
      "cell_type": "code",
      "metadata": {
        "id": "5uHJYgDG16BT",
        "outputId": "0921aee0-4d5d-43ce-be30-f637a7564394",
        "colab": {
          "base_uri": "https://localhost:8080/",
          "height": 34
        }
      },
      "source": [
        "A = test[:-3]['close_point_relative_normalization']\n",
        "B = predicted_close['close_point_relative_normalization']\n",
        "\n",
        "print(f'Normalized RMSE: {rmse(A, B):.2f}')"
      ],
      "execution_count": null,
      "outputs": [
        {
          "output_type": "stream",
          "text": [
            "Normalized RMSE: 0.10\n"
          ],
          "name": "stdout"
        }
      ]
    },
    {
      "cell_type": "code",
      "metadata": {
        "id": "1OaNNN6o16BZ",
        "outputId": "e6071bf5-33d4-4ef6-94cf-45a3126f8e2e",
        "colab": {
          "base_uri": "https://localhost:8080/",
          "height": 51
        }
      },
      "source": [
        "A = test[:-3]['close']\n",
        "B = predicted_close['close']\n",
        "\n",
        "print(f'De-normalized RMSE: {rmse(A, B):.2f}')\n",
        "print(f'De-normalized MAPE: {mape(A, B):.2f}')"
      ],
      "execution_count": null,
      "outputs": [
        {
          "output_type": "stream",
          "text": [
            "De-normalized RMSE: 352.17\n",
            "De-normalized MAPE: 6.77\n"
          ],
          "name": "stdout"
        }
      ]
    },
    {
      "cell_type": "code",
      "metadata": {
        "id": "ZxAbURPmA1gp"
      },
      "source": [
        ""
      ],
      "execution_count": null,
      "outputs": []
    }
  ]
}